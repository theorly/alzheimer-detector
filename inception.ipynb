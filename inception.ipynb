{
  "nbformat": 4,
  "nbformat_minor": 0,
  "metadata": {
    "colab": {
      "provenance": [],
      "gpuType": "T4"
    },
    "kernelspec": {
      "name": "python3",
      "display_name": "Python 3"
    },
    "language_info": {
      "name": "python"
    },
    "accelerator": "GPU",
    "gpuClass": "standard"
  },
  "cells": [
    {
      "cell_type": "code",
      "execution_count": null,
      "metadata": {
        "colab": {
          "base_uri": "https://localhost:8080/"
        },
        "id": "9_cc4xe6KZWg",
        "outputId": "efa34ef1-08ce-46c1-b8c9-22ee8b1c0580"
      },
      "outputs": [
        {
          "output_type": "stream",
          "name": "stdout",
          "text": [
            "Mounted at /MyDrive\n",
            "sample_data\n"
          ]
        }
      ],
      "source": [
        "from google.colab import drive\n",
        "\n",
        "drive.mount('/MyDrive')\n",
        "\n",
        "!ls"
      ]
    },
    {
      "cell_type": "code",
      "source": [
        "from keras.engine import input_layer\n",
        "import numpy as np\n",
        "import cv2\n",
        "import tensorflow as tf\n",
        "from keras.losses import sparse_categorical_crossentropy\n",
        "from keras.optimizers import Adam\n",
        "from matplotlib import pyplot as plt\n",
        "from keras import Sequential\n",
        "from keras.layers import Conv2D, MaxPooling2D, Dense, Flatten, Dropout\n",
        "\n",
        "data_path = '/MyDrive/MyDrive/alzheimer/dataset/Task_01_with/'\n",
        "fig_path = '/MyDrive/MyDrive/alzheimer/fig/'\n",
        "model_path = '/MyDrive/MyDrive/alzheimer/model/'"
      ],
      "metadata": {
        "id": "PNXksJlpKdwQ"
      },
      "execution_count": null,
      "outputs": []
    },
    {
      "cell_type": "code",
      "source": [
        "batch_size = 32\n",
        "img_width, img_height, img_num_channels = 299, 299, 3\n",
        "no_classes = 2\n",
        "no_epochs = 100\n",
        "optimizer = Adam()\n",
        "verbosity = 1\n",
        "\n",
        "data = tf.keras.utils.image_dataset_from_directory(directory = data_path, image_size=(299, 299))\n",
        "data_iterator = data.as_numpy_iterator()\n",
        "batch = data_iterator.next()\n",
        "\n",
        "data = data.map(lambda x,y: (x/255,y))\n",
        "scaled_iterator = data.as_numpy_iterator()\n",
        "\n",
        "batch = scaled_iterator.next()\n",
        "\n",
        "print(len(data))\n",
        "\n",
        "train_size = int(len(data)*.7)\n",
        "val_size = int(len(data)*.2)\n",
        "test_size = int(len(data)*.1)\n",
        "\n",
        "train = data.take(train_size)\n",
        "val = data.skip(train_size).take(val_size)\n",
        "test = data.skip(train_size+val_size).take(test_size)"
      ],
      "metadata": {
        "colab": {
          "base_uri": "https://localhost:8080/"
        },
        "id": "VaS8_RD2KfNf",
        "outputId": "f0bd9270-a1a2-4ec4-dab7-9434db0bb1ea"
      },
      "execution_count": null,
      "outputs": [
        {
          "output_type": "stream",
          "name": "stdout",
          "text": [
            "Found 664 files belonging to 2 classes.\n",
            "21\n"
          ]
        }
      ]
    },
    {
      "cell_type": "code",
      "source": [
        "from keras.models import Sequential\n",
        "from keras.models import Model\n",
        "from keras.callbacks import ModelCheckpoint, LearningRateScheduler, EarlyStopping, ReduceLROnPlateau, TensorBoard\n",
        "from keras import optimizers, losses, activations, models\n",
        "from keras.layers import Convolution2D, Dense, Input, Flatten, Dropout, MaxPooling2D, BatchNormalization, GlobalAveragePooling2D, Concatenate\n",
        "from keras import applications\n",
        "\n",
        "base_model = applications.InceptionV3(weights='imagenet', \n",
        "                                      classes = no_classes,\n",
        "                                include_top=False, \n",
        "                               \n",
        "                                input_shape=(299, 299,3))\n",
        "base_model.trainable = False\n",
        "\n",
        "add_model = Sequential()\n",
        "add_model.add(base_model)\n",
        "add_model.add(GlobalAveragePooling2D())\n",
        "add_model.add(Dropout(0.5))\n",
        "add_model.add(BatchNormalization())\n",
        "add_model.add(Dense(512, activation='relu'))\n",
        "add_model.add(Dense(1, \n",
        "                    activation='sigmoid'))\n",
        "\n",
        "dnn_model = add_model\n",
        "dnn_model.compile(loss=tf.losses.BinaryCrossentropy(), \n",
        "              optimizer=optimizers.SGD(lr=1e-4, \n",
        "                                      momentum=0.9),\n",
        "              #optimizer = Adam(),\n",
        "              metrics=['accuracy'])\n",
        "\n",
        "callback = tf.keras.callbacks.EarlyStopping(monitor='val_loss', patience=10, restore_best_weights=True)\n",
        "\n",
        "dnn_model.summary()\n",
        "\n"
      ],
      "metadata": {
        "colab": {
          "base_uri": "https://localhost:8080/"
        },
        "id": "zV0u20E1Y7GR",
        "outputId": "27e86b5b-d9b8-42fc-90a9-708cd497d25f"
      },
      "execution_count": null,
      "outputs": [
        {
          "output_type": "stream",
          "name": "stdout",
          "text": [
            "Model: \"sequential_19\"\n",
            "_________________________________________________________________\n",
            " Layer (type)                Output Shape              Param #   \n",
            "=================================================================\n",
            " inception_v3 (Functional)   (None, 8, 8, 2048)        21802784  \n",
            "                                                                 \n",
            " global_average_pooling2d_20  (None, 2048)             0         \n",
            "  (GlobalAveragePooling2D)                                       \n",
            "                                                                 \n",
            " dropout_9 (Dropout)         (None, 2048)              0         \n",
            "                                                                 \n",
            " batch_normalization_2150 (B  (None, 2048)             8192      \n",
            " atchNormalization)                                              \n",
            "                                                                 \n",
            " dense_27 (Dense)            (None, 512)               1049088   \n",
            "                                                                 \n",
            " dense_28 (Dense)            (None, 1)                 513       \n",
            "                                                                 \n",
            "=================================================================\n",
            "Total params: 22,860,577\n",
            "Trainable params: 1,053,697\n",
            "Non-trainable params: 21,806,880\n",
            "_________________________________________________________________\n"
          ]
        }
      ]
    },
    {
      "cell_type": "code",
      "source": [
        "python_history = dnn_model.fit(\n",
        "        train,\n",
        "        epochs=50,\n",
        "        validation_data=val,\n",
        "        callbacks=[callback],\n",
        "        batch_size=batch_size,\n",
        "        verbose=verbosity\n",
        "    )"
      ],
      "metadata": {
        "colab": {
          "base_uri": "https://localhost:8080/"
        },
        "id": "W7zz-exkKrRW",
        "outputId": "1df3d8da-3d46-4cc7-879c-7aa619b6f38c"
      },
      "execution_count": null,
      "outputs": [
        {
          "output_type": "stream",
          "name": "stdout",
          "text": [
            "Epoch 1/50\n",
            "14/14 [==============================] - 8s 433ms/step - loss: 0.7098 - accuracy: 0.6138 - val_loss: 0.5877 - val_accuracy: 0.7500\n",
            "Epoch 2/50\n",
            "14/14 [==============================] - 6s 374ms/step - loss: 0.7014 - accuracy: 0.6049 - val_loss: 0.6028 - val_accuracy: 0.7109\n",
            "Epoch 3/50\n",
            "14/14 [==============================] - 5s 295ms/step - loss: 0.7205 - accuracy: 0.5759 - val_loss: 0.5681 - val_accuracy: 0.7344\n",
            "Epoch 4/50\n",
            "14/14 [==============================] - 4s 285ms/step - loss: 0.6640 - accuracy: 0.6496 - val_loss: 0.6349 - val_accuracy: 0.6797\n",
            "Epoch 5/50\n",
            "14/14 [==============================] - 5s 315ms/step - loss: 0.7069 - accuracy: 0.5960 - val_loss: 0.5970 - val_accuracy: 0.7031\n",
            "Epoch 6/50\n",
            "14/14 [==============================] - 4s 282ms/step - loss: 0.6537 - accuracy: 0.6540 - val_loss: 0.5761 - val_accuracy: 0.7422\n",
            "Epoch 7/50\n",
            "14/14 [==============================] - 8s 522ms/step - loss: 0.6704 - accuracy: 0.6362 - val_loss: 0.5800 - val_accuracy: 0.7031\n",
            "Epoch 8/50\n",
            "14/14 [==============================] - 5s 305ms/step - loss: 0.6612 - accuracy: 0.6317 - val_loss: 0.6120 - val_accuracy: 0.6797\n",
            "Epoch 9/50\n",
            "14/14 [==============================] - 8s 522ms/step - loss: 0.6483 - accuracy: 0.6496 - val_loss: 0.5736 - val_accuracy: 0.7344\n",
            "Epoch 10/50\n",
            "14/14 [==============================] - 4s 281ms/step - loss: 0.6715 - accuracy: 0.6205 - val_loss: 0.5776 - val_accuracy: 0.7578\n",
            "Epoch 11/50\n",
            "14/14 [==============================] - 5s 328ms/step - loss: 0.6462 - accuracy: 0.6339 - val_loss: 0.5455 - val_accuracy: 0.7734\n",
            "Epoch 12/50\n",
            "14/14 [==============================] - 5s 296ms/step - loss: 0.6600 - accuracy: 0.6362 - val_loss: 0.5733 - val_accuracy: 0.7344\n",
            "Epoch 13/50\n",
            "14/14 [==============================] - 4s 285ms/step - loss: 0.6695 - accuracy: 0.6183 - val_loss: 0.5761 - val_accuracy: 0.6875\n",
            "Epoch 14/50\n",
            "14/14 [==============================] - 6s 367ms/step - loss: 0.6314 - accuracy: 0.6518 - val_loss: 0.5746 - val_accuracy: 0.7109\n",
            "Epoch 15/50\n",
            "14/14 [==============================] - 5s 284ms/step - loss: 0.6137 - accuracy: 0.6808 - val_loss: 0.5798 - val_accuracy: 0.7188\n",
            "Epoch 16/50\n",
            "14/14 [==============================] - 5s 316ms/step - loss: 0.6380 - accuracy: 0.6540 - val_loss: 0.6289 - val_accuracy: 0.6484\n",
            "Epoch 17/50\n",
            "14/14 [==============================] - 5s 341ms/step - loss: 0.6503 - accuracy: 0.6384 - val_loss: 0.5425 - val_accuracy: 0.7188\n",
            "Epoch 18/50\n",
            "14/14 [==============================] - 5s 294ms/step - loss: 0.6188 - accuracy: 0.6518 - val_loss: 0.5351 - val_accuracy: 0.7656\n",
            "Epoch 19/50\n",
            "14/14 [==============================] - 6s 366ms/step - loss: 0.6369 - accuracy: 0.6719 - val_loss: 0.5506 - val_accuracy: 0.7188\n",
            "Epoch 20/50\n",
            "14/14 [==============================] - 4s 283ms/step - loss: 0.6486 - accuracy: 0.6451 - val_loss: 0.5859 - val_accuracy: 0.6875\n",
            "Epoch 21/50\n",
            "14/14 [==============================] - 4s 284ms/step - loss: 0.6402 - accuracy: 0.6384 - val_loss: 0.5562 - val_accuracy: 0.7109\n",
            "Epoch 22/50\n",
            "14/14 [==============================] - 5s 319ms/step - loss: 0.6219 - accuracy: 0.6607 - val_loss: 0.5315 - val_accuracy: 0.7344\n",
            "Epoch 23/50\n",
            "14/14 [==============================] - 4s 285ms/step - loss: 0.6077 - accuracy: 0.6674 - val_loss: 0.5093 - val_accuracy: 0.7734\n",
            "Epoch 24/50\n",
            "14/14 [==============================] - 5s 327ms/step - loss: 0.6190 - accuracy: 0.6719 - val_loss: 0.5426 - val_accuracy: 0.7109\n",
            "Epoch 25/50\n",
            "14/14 [==============================] - 5s 293ms/step - loss: 0.6469 - accuracy: 0.6429 - val_loss: 0.5346 - val_accuracy: 0.7344\n",
            "Epoch 26/50\n",
            "14/14 [==============================] - 5s 290ms/step - loss: 0.6497 - accuracy: 0.6652 - val_loss: 0.5307 - val_accuracy: 0.7109\n",
            "Epoch 27/50\n",
            "14/14 [==============================] - 5s 361ms/step - loss: 0.6079 - accuracy: 0.6741 - val_loss: 0.5710 - val_accuracy: 0.6875\n",
            "Epoch 28/50\n",
            "14/14 [==============================] - 4s 283ms/step - loss: 0.6064 - accuracy: 0.6786 - val_loss: 0.5665 - val_accuracy: 0.7188\n",
            "Epoch 29/50\n",
            "14/14 [==============================] - 4s 284ms/step - loss: 0.6307 - accuracy: 0.6540 - val_loss: 0.5245 - val_accuracy: 0.7500\n",
            "Epoch 30/50\n",
            "14/14 [==============================] - 6s 373ms/step - loss: 0.6327 - accuracy: 0.6540 - val_loss: 0.5345 - val_accuracy: 0.7109\n",
            "Epoch 31/50\n",
            "14/14 [==============================] - 5s 361ms/step - loss: 0.5955 - accuracy: 0.6853 - val_loss: 0.5266 - val_accuracy: 0.7266\n",
            "Epoch 32/50\n",
            "14/14 [==============================] - 5s 326ms/step - loss: 0.5998 - accuracy: 0.7031 - val_loss: 0.5382 - val_accuracy: 0.7500\n",
            "Epoch 33/50\n",
            "14/14 [==============================] - 5s 319ms/step - loss: 0.6555 - accuracy: 0.6429 - val_loss: 0.5174 - val_accuracy: 0.7500\n"
          ]
        }
      ]
    },
    {
      "cell_type": "code",
      "source": [
        "dnn_model.save(model_path + 'inception_new.h5', overwrite=True)"
      ],
      "metadata": {
        "id": "5DLzM6XzLD1_"
      },
      "execution_count": null,
      "outputs": []
    },
    {
      "cell_type": "code",
      "source": [
        "test_dict = dnn_model.evaluate(\n",
        "    test,\n",
        "    steps=test_size,\n",
        "    return_dict=True\n",
        ")"
      ],
      "metadata": {
        "colab": {
          "base_uri": "https://localhost:8080/"
        },
        "id": "bod8BJysLFpW",
        "outputId": "8da12900-8e2a-4092-d983-1acbf14e8304"
      },
      "execution_count": null,
      "outputs": [
        {
          "output_type": "stream",
          "name": "stdout",
          "text": [
            "2/2 [==============================] - 2s 158ms/step - loss: 0.6251 - accuracy: 0.6562\n"
          ]
        }
      ]
    },
    {
      "cell_type": "code",
      "source": [
        "dnn_model.metrics_names\n",
        " #  \"Accuracy\"\n",
        "plt.plot(python_history.history['accuracy'])\n",
        "plt.plot(python_history.history['val_accuracy'])\n",
        "plt.title('model accuracy')\n",
        "plt.ylabel('accuracy')\n",
        "plt.xlabel('epoch')\n",
        "plt.legend(['train', 'validation'], loc='upper left')\n",
        "plt.show()\n",
        "plt.savefig(fig_path + 'accuracy_yt.jpg')\n",
        "    # \"Loss\"\n",
        "plt.plot(python_history.history['loss'])\n",
        "plt.plot(python_history.history['val_loss'])\n",
        "plt.title('model loss')\n",
        "plt.ylabel('loss')\n",
        "plt.xlabel('epoch')\n",
        "plt.legend(['train', 'validation'], loc='upper left')\n",
        "plt.show()\n",
        "plt.savefig(fig_path + 'loss_yt.jpg')"
      ],
      "metadata": {
        "id": "8T68cKIvy6do"
      },
      "execution_count": null,
      "outputs": []
    },
    {
      "cell_type": "code",
      "source": [
        "import tensorflow as tf\n",
        "import os\n",
        "#model = tf.keras.models.load_model(\"./new_model_spero_fighissimo\")\n",
        "converter = tf.lite.TFLiteConverter.from_keras_model(dnn_model)\n",
        "\n",
        "tflite_quant_model = converter.convert()#save converted quantization model to tflite format\n",
        "open(model_path + \"model_inception.tflite\", \"wb\").write(tflite_quant_model)"
      ],
      "metadata": {
        "colab": {
          "base_uri": "https://localhost:8080/"
        },
        "id": "b8G8kNMRM7QL",
        "outputId": "cd2ea582-c11d-47ad-c059-eee57cc15ba8"
      },
      "execution_count": null,
      "outputs": [
        {
          "output_type": "stream",
          "name": "stderr",
          "text": [
            "WARNING:absl:Found untraced functions such as _jit_compiled_convolution_op, _jit_compiled_convolution_op, _jit_compiled_convolution_op, _jit_compiled_convolution_op, _jit_compiled_convolution_op while saving (showing 5 of 94). These functions will not be directly callable after loading.\n"
          ]
        },
        {
          "output_type": "execute_result",
          "data": {
            "text/plain": [
              "91337436"
            ]
          },
          "metadata": {},
          "execution_count": 65
        }
      ]
    }
  ]
}